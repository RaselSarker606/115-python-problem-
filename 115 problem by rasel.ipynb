{
 "cells": [
  {
   "cell_type": "markdown",
   "id": "6a5a0637-43f2-4b7a-91b6-3ddcd31ac82c",
   "metadata": {},
   "source": [
    "1. Variable Swap: Write a Python program to swap the values of two variables without using a temporary variable."
   ]
  },
  {
   "cell_type": "code",
   "execution_count": 25,
   "id": "3e317e11-f148-484e-9b76-5ec835c7e62a",
   "metadata": {},
   "outputs": [
    {
     "name": "stdout",
     "output_type": "stream",
     "text": [
      "the value of x= 12\n",
      "the value of y= 11\n"
     ]
    }
   ],
   "source": [
    "x = 11\n",
    "y = 12\n",
    "\n",
    "x = x + y \n",
    "y = x - y \n",
    "x = x - y \n",
    "\n",
    "print('the value of x= {}'.format(x))\n",
    "print('the value of y= {}'.format(y))"
   ]
  },
  {
   "cell_type": "markdown",
   "id": "9203eb68-1c64-41e3-a408-80a21438530f",
   "metadata": {},
   "source": [
    "2. Even or Odd: Write a Python program that takes an integer as input and prints whether it is even or odd."
   ]
  },
  {
   "cell_type": "code",
   "execution_count": null,
   "id": "a65c806b-547c-455a-b426-2f87b57315ba",
   "metadata": {},
   "outputs": [],
   "source": [
    "def check_even_odd(number):\n",
    " \n",
    "  if number % 2 == 0:\n",
    "    print(f\"{number} is even\")\n",
    "  else:\n",
    "    print(f\"{number} is odd\")\n",
    "\n",
    "number = int(input(\"Enter an integer: \"))\n",
    "\n",
    "check_even_odd(number)"
   ]
  },
  {
   "cell_type": "markdown",
   "id": "90393455-9b9d-4643-8736-fedb0cfffdcb",
   "metadata": {},
   "source": [
    "3. String Reverse: Write a Python function to reverse a given string and return the reversed string."
   ]
  },
  {
   "cell_type": "code",
   "execution_count": 31,
   "id": "49a9d5a5-0312-496c-9e0d-ab9ab0f8008e",
   "metadata": {},
   "outputs": [
    {
     "name": "stdout",
     "output_type": "stream",
     "text": [
      "wen gnihtemos yrt\n"
     ]
    }
   ],
   "source": [
    "x = \"try something new\"\n",
    "list = []\n",
    "reverse = ''\n",
    "\n",
    "for j in x:\n",
    "    list.append(j)\n",
    "for k in list:\n",
    "    reverse = k+reverse\n",
    "    \n",
    "print(reverse)"
   ]
  },
  {
   "cell_type": "markdown",
   "id": "6ed94145-4c0d-4cbc-a467-db316a734bc4",
   "metadata": {},
   "source": [
    "4. Type Conversion: Given a list of integers, write a Python program to convert each element of the list to a string."
   ]
  },
  {
   "cell_type": "code",
   "execution_count": 41,
   "id": "0c9b48a2-fb26-4932-99b1-9ab5d5ce04de",
   "metadata": {},
   "outputs": [
    {
     "name": "stdout",
     "output_type": "stream",
     "text": [
      "Original list: [1, 2, 3, 4, 5]\n",
      "List after conversion: ['1', '2', '3', '4', '5']\n"
     ]
    }
   ],
   "source": [
    "list = [1, 2, 3, 4, 5]\n",
    "string_list = []\n",
    "\n",
    "for num in list:\n",
    "  string_list.append(str(num))\n",
    "\n",
    "print(f\"Original list: {list}\")\n",
    "print(f\"List after conversion: {string_list}\")"
   ]
  },
  {
   "cell_type": "markdown",
   "id": "5ed60eae-caa6-4812-8889-5b776428df32",
   "metadata": {},
   "source": [
    "5. Temperature Converter: Write a Python program that converts a temperature in Celsius to Fahrenheit. Take the Celsius temperature as input from the user."
   ]
  },
  {
   "cell_type": "code",
   "execution_count": 43,
   "id": "f7257b78-e9b2-41b2-bf3c-1eab555dc6d1",
   "metadata": {},
   "outputs": [
    {
     "name": "stdin",
     "output_type": "stream",
     "text": [
      "Enter the temperature in Celsius:  44\n"
     ]
    },
    {
     "name": "stdout",
     "output_type": "stream",
     "text": [
      "44.0 degrees Celsius is equal to 111.2 degrees Fahrenheit\n"
     ]
    }
   ],
   "source": [
    "celsius = float(input(\"Enter the temperature in Celsius: \"))\n",
    "\n",
    "fahrenheit = (celsius * 1.8) + 32\n",
    "\n",
    "print(\"{} degrees Celsius is equal to {} degrees Fahrenheit\".format(celsius,fahrenheit))"
   ]
  },
  {
   "cell_type": "markdown",
   "id": "4b4c4452-7696-439e-901c-2d2f04c04d29",
   "metadata": {},
   "source": [
    "6. Data Type Checker: Write a Python function that takes a variable as input and returns the data type of the variable as a string (e.g., “int”, “float”, “str”, “list”, etc.)."
   ]
  },
  {
   "cell_type": "code",
   "execution_count": 49,
   "id": "d850fb4d-6464-4765-82b5-4f1717876cc4",
   "metadata": {},
   "outputs": [
    {
     "name": "stdout",
     "output_type": "stream",
     "text": [
      "Data type of 1: <class 'int'>\n",
      "Data type of 2.5: <class 'float'>\n",
      "Data type of Hello: <class 'str'>\n",
      "Data type of True: <class 'bool'>\n",
      "Data type of [1, 2, 3]: <class 'list'>\n",
      "Data type of (4, 5): <class 'tuple'>\n",
      "Data type of {'name': 'John'}: <class 'dict'>\n"
     ]
    }
   ],
   "source": [
    "data = [1, 2.5, \"Hello\", True, [1, 2, 3], (4, 5), {\"name\": \"John\"}]\n",
    "\n",
    "for item in data:\n",
    "  data_type = type(item)\n",
    "  print(f\"Data type of {item}: {data_type}\")"
   ]
  },
  {
   "cell_type": "markdown",
   "id": "33d10fcb-5722-4728-8e99-914ae119af0a",
   "metadata": {},
   "source": [
    "7. String Palindrome: Write a Python function to check if a given string is a palindrome or not."
   ]
  },
  {
   "cell_type": "code",
   "execution_count": 50,
   "id": "aaaaf805-5b00-4ed0-962d-5e60dfbd2b17",
   "metadata": {},
   "outputs": [
    {
     "name": "stdout",
     "output_type": "stream",
     "text": [
      "racecar is a palindrome: True\n"
     ]
    }
   ],
   "source": [
    "text = \"racecar\"\n",
    "\n",
    "text = ''.join(char.lower() \n",
    "               for char in text \n",
    "               if char.isalnum())\n",
    "\n",
    "\n",
    "is_palindrome = text == reversed_text\n",
    "\n",
    "print(f\"{text} is a palindrome: {is_palindrome}\")"
   ]
  },
  {
   "cell_type": "markdown",
   "id": "ffb262aa-1614-4099-a611-b3dd4fc931f4",
   "metadata": {},
   "source": [
    "8. String Reversal with Slicing: Write a Python function to reverse a given string using slicing."
   ]
  },
  {
   "cell_type": "code",
   "execution_count": 101,
   "id": "3f193c44-432e-42fd-b751-9707d801d7c7",
   "metadata": {},
   "outputs": [
    {
     "name": "stdout",
     "output_type": "stream",
     "text": [
      "original text = try something new\n",
      "reverse text = wen gnihtemos yrt\n",
      "reverse text slicing = ['wen', 'gnihtemos', 'yrt', 'w', 'e', 'n', ' ', 'g', 'n', 'i', 'h', 't', 'e', 'm', 'o', 's', ' ', 'y', 'r', 't', 'w', 'e', 'n', ' ', 'g', 'n', 'i', 'h', 't', 'e', 'm', 'o', 's', ' ', 'y', 'r', 't', '', '', '', '', '', '', '', '', '', '', '', '', '', '', '', '', '', '', '', '', '', '', '', '', '', '', '', '', '', '', '', '', '', '', 'w', 'e', 'n', ' ', 'g', 'n', 'i', 'h', 't', 'e', 'm', 'o', 's', ' ', 'y', 'r', 't', 'w', 'e', 'n', ' ', 'g', 'n', 'i', 'h', 't', 'e', 'm', 'o', 's', ' ', 'y', 'r', 't', 'w', 'e', 'n', ' ', 'g', 'n', 'i', 'h', 't', 'e', 'm', 'o', 's', ' ', 'y', 'r', 't', 'w', 'e', 'n', ' ', 'g', 'n', 'i', 'h', 't', 'e', 'm', 'o', 's', ' ', 'y', 'r', 't'] \n"
     ]
    }
   ],
   "source": [
    "x = \"try something new\"\n",
    "list = []\n",
    "reverse = ''\n",
    "\n",
    "for j in x:\n",
    "    list.append(j)\n",
    "for k in list:\n",
    "    reverse = k+reverse\n",
    "    \n",
    "for i in reverse:\n",
    "  slicing.append(i)\n",
    "\n",
    "print('original text = {}'.format(x))\n",
    "print('reverse text = {}'.format(reverse))\n",
    "print('reverse text slicing = {} '.format(slicing))"
   ]
  },
  {
   "cell_type": "markdown",
   "id": "95393169-7e04-4526-8bfd-5c2a9d351ed5",
   "metadata": {},
   "source": [
    "9. String Concatenation: Write a Python program that takes two strings as input and concatenates them into a single string without using the `+` operator."
   ]
  },
  {
   "cell_type": "code",
   "execution_count": 106,
   "id": "429f17bc-cf95-4bc1-8178-217af2a8de81",
   "metadata": {},
   "outputs": [
    {
     "name": "stdout",
     "output_type": "stream",
     "text": [
      "Concatenated string: nothingspecial\n"
     ]
    }
   ],
   "source": [
    "s1 = \"nothing\"\n",
    "s2 = \"special\"\n",
    "\n",
    "\n",
    "concatenated_string = ''.join([s1, s2])\n",
    "\n",
    "print(f\"Concatenated string: {concatenated_string}\")"
   ]
  },
  {
   "cell_type": "markdown",
   "id": "414fa4ad-62a0-4b9e-bd64-37bdafc343d9",
   "metadata": {},
   "source": [
    "10. Typecasting Challenge: Given three variables: `a = ‘100’`, `b = 25`, and `c = ‘10.5’`, write a Python program to perform the following operations and print the results: – Convert `a` to an integer and add it to `b`. – Convert `c` to a float and subtract it from the result of the first operation. – Convert the final result to a string and concatenate it with the string ” is the answer.”"
   ]
  },
  {
   "cell_type": "code",
   "execution_count": 114,
   "id": "33a9a4c7-0db2-4959-872d-9b144ac43dff",
   "metadata": {},
   "outputs": [
    {
     "name": "stdout",
     "output_type": "stream",
     "text": [
      "114.5 is the answer: \n"
     ]
    }
   ],
   "source": [
    "a = '100'\n",
    "b = 25\n",
    "c = '10.5'\n",
    "\n",
    "result1 = int(a)+b\n",
    "result2 = result1 - float(c)\n",
    "final_result = str(result2) + ' is the answer'\n",
    "\n",
    "print('{}: '.format(final_result))"
   ]
  }
 ],
 "metadata": {
  "kernelspec": {
   "display_name": "Python 3 (ipykernel)",
   "language": "python",
   "name": "python3"
  },
  "language_info": {
   "codemirror_mode": {
    "name": "ipython",
    "version": 3
   },
   "file_extension": ".py",
   "mimetype": "text/x-python",
   "name": "python",
   "nbconvert_exporter": "python",
   "pygments_lexer": "ipython3",
   "version": "3.11.7"
  }
 },
 "nbformat": 4,
 "nbformat_minor": 5
}
